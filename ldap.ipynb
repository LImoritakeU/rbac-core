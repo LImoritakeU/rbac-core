{
 "cells": [
  {
   "cell_type": "markdown",
   "metadata": {},
   "source": [
    "建立連結"
   ]
  },
  {
   "cell_type": "code",
   "execution_count": null,
   "metadata": {},
   "outputs": [
    {
     "data": {
      "text/plain": [
       "\"Connection(server=Server(host='127.0.0.1', port=389, use_ssl=False, allowed_referral_hosts=[('*', True)], get_info='SCHEMA', mode='IP_V6_PREFERRED'), user='cn=admin,dc=bluetech,dc=corp', password='admin', auto_bind='NO_TLS', version=3, authentication='SIMPLE', client_strategy='SYNC', auto_referrals=True, check_names=True, read_only=False, lazy=False, raise_exceptions=False, fast_decoder=True, auto_range=True, return_empty_attributes=True, auto_encode=True, auto_escape=True, use_referral_cache=False)\""
      ]
     },
     "execution_count": 32,
     "metadata": {},
     "output_type": "execute_result"
    }
   ],
   "source": [
    "from ldap3 import Connection, ObjectDef\n",
    "\n",
    "conn = Connection('127.0.0.1:389', user=\"cn=admin,dc=bluetech,dc=corp\", password=\"admin\", auto_bind=True)\n",
    "repr(conn)\n"
   ]
  },
  {
   "cell_type": "code",
   "execution_count": 3,
   "metadata": {},
   "outputs": [
    {
     "data": {
      "text/plain": [
       "[DN: cn=doraemon+givenName=A夢+sn=哆啦+uid=doraemon,ou=DST,o=bluetech,cn=admin,dc=bluetech,dc=corp - STATUS: Read - READ TIME: 2018-05-28T11:13:48.201412,\n",
       " DN: cn=nobi nobita+givenName=大雄+sn=野比+uid=nobinobita,ou=DST,o=bluetech,cn=admin,dc=bluetech,dc=corp - STATUS: Read - READ TIME: 2018-05-28T11:13:48.201546,\n",
       " DN: cn=minamoto shizuka+givenName=靜香+sn=源+uid=minamotoshizuka,ou=TWM,o=bluetech,cn=admin,dc=bluetech,dc=corp - STATUS: Read - READ TIME: 2018-05-28T11:13:48.201649,\n",
       " DN: cn=honekawa suneo+givenName=小夫+sn=骨川+uid=honekawasuneo,ou=FET,o=bluetech,cn=admin,dc=bluetech,dc=corp - STATUS: Read - READ TIME: 2018-05-28T11:13:48.201740,\n",
       " DN: cn=goda takeshi+displayName=胖虎+givenName=武+sn=剛田+uid=godatakeshi,ou=COE,o=bluetech,cn=admin,dc=bluetech,dc=corp - STATUS: Read - READ TIME: 2018-05-28T11:13:48.201827]"
      ]
     },
     "execution_count": 3,
     "metadata": {},
     "output_type": "execute_result"
    }
   ],
   "source": [
    "conn.search(\n",
    "    search_base='dc=bluetech,dc=corp',\n",
    "    search_filter='(objectclass=person)'\n",
    ")\n",
    "\n",
    "conn.entries"
   ]
  },
  {
   "cell_type": "markdown",
   "metadata": {},
   "source": [
    "查詢特定屬性"
   ]
  },
  {
   "cell_type": "code",
   "execution_count": 36,
   "metadata": {},
   "outputs": [
    {
     "name": "stdout",
     "output_type": "stream",
     "text": [
      "doraemon, 哆啦A夢 \n",
      "nobinobita, 野比大雄 \n",
      "minamotoshizuka, 源靜香 \n",
      "honekawasuneo, 骨川小夫 \n",
      "godatakeshi, 剛田武 胖虎\n"
     ]
    }
   ],
   "source": [
    "conn.search(\n",
    "    search_base='dc=bluetech,dc=corp',\n",
    "    search_filter='(objectclass=person)',\n",
    "    attributes=['cn', 'sn', 'givenName','uid', 'displayName']\n",
    ")\n",
    "# print(conn.entries)\n",
    "\n",
    "for entry in conn.entries:\n",
    "    print(f'{entry.uid}, {entry.sn}{entry.givenName} {entry.displayName if entry.displayName else \"\"}')\n",
    "    "
   ]
  },
  {
   "cell_type": "markdown",
   "metadata": {},
   "source": [
    "查詢 ou 類型"
   ]
  },
  {
   "cell_type": "code",
   "execution_count": 49,
   "metadata": {},
   "outputs": [
    {
     "data": {
      "text/plain": [
       "[DN: ou=DST,o=bluetech,cn=admin,dc=bluetech,dc=corp - STATUS: Read - READ TIME: 2018-05-28T12:35:31.763845,\n",
       " DN: ou=TWM,o=bluetech,cn=admin,dc=bluetech,dc=corp - STATUS: Read - READ TIME: 2018-05-28T12:35:31.763958,\n",
       " DN: ou=FET,o=bluetech,cn=admin,dc=bluetech,dc=corp - STATUS: Read - READ TIME: 2018-05-28T12:35:31.764043,\n",
       " DN: ou=COE,o=bluetech,cn=admin,dc=bluetech,dc=corp - STATUS: Read - READ TIME: 2018-05-28T12:35:31.764125]"
      ]
     },
     "execution_count": 49,
     "metadata": {},
     "output_type": "execute_result"
    }
   ],
   "source": [
    "conn.search(\n",
    "    search_base='dc=bluetech,dc=corp',\n",
    "    search_filter='(ou=*)',\n",
    ")\n",
    "conn.entries"
   ]
  },
  {
   "cell_type": "markdown",
   "metadata": {},
   "source": [
    "查詢 DST 內的entries"
   ]
  },
  {
   "cell_type": "code",
   "execution_count": 48,
   "metadata": {},
   "outputs": [
    {
     "data": {
      "text/plain": [
       "[DN: ou=DST,o=bluetech,cn=admin,dc=bluetech,dc=corp - STATUS: Read - READ TIME: 2018-05-28T12:04:25.928235,\n",
       " DN: cn=doraemon+givenName=A夢+sn=哆啦+uid=doraemon,ou=DST,o=bluetech,cn=admin,dc=bluetech,dc=corp - STATUS: Read - READ TIME: 2018-05-28T12:04:25.928335,\n",
       " DN: cn=nobi nobita+givenName=大雄+sn=野比+uid=nobinobita,ou=DST,o=bluetech,cn=admin,dc=bluetech,dc=corp - STATUS: Read - READ TIME: 2018-05-28T12:04:25.928432]"
      ]
     },
     "execution_count": 48,
     "metadata": {},
     "output_type": "execute_result"
    }
   ],
   "source": [
    "conn.search(\n",
    "    search_base='ou=DST,o=bluetech,cn=admin,dc=bluetech,dc=corp',\n",
    "    search_filter='(objectclass=*)',\n",
    ")\n",
    "conn.entries"
   ]
  },
  {
   "cell_type": "markdown",
   "metadata": {},
   "source": [
    "這樣是不行的！\n",
    "\n",
    "原本的邏輯是：「查詢base底下，有ou=dst的所有物件」，但是ldap的邏輯不是這樣"
   ]
  },
  {
   "cell_type": "code",
   "execution_count": 71,
   "metadata": {},
   "outputs": [
    {
     "ename": "LDAPInvalidFilterError",
     "evalue": "invalid filter",
     "output_type": "error",
     "traceback": [
      "\u001b[0;31m---------------------------------------------------------------------------\u001b[0m",
      "\u001b[0;31mLDAPInvalidFilterError\u001b[0m                    Traceback (most recent call last)",
      "\u001b[0;32m<ipython-input-71-5c5d47f1ae43>\u001b[0m in \u001b[0;36m<module>\u001b[0;34m()\u001b[0m\n\u001b[1;32m      1\u001b[0m conn.search(\n\u001b[1;32m      2\u001b[0m     \u001b[0msearch_base\u001b[0m\u001b[0;34m=\u001b[0m\u001b[0;34m'o=bluetech,cn=admin,dc=bluetech,dc=corp'\u001b[0m\u001b[0;34m,\u001b[0m\u001b[0;34m\u001b[0m\u001b[0m\n\u001b[0;32m----> 3\u001b[0;31m     \u001b[0msearch_filter\u001b[0m\u001b[0;34m=\u001b[0m\u001b[0;34m'&(objectclass=*)(ou=DST)'\u001b[0m\u001b[0;34m,\u001b[0m\u001b[0;34m\u001b[0m\u001b[0m\n\u001b[0m\u001b[1;32m      4\u001b[0m )\n\u001b[1;32m      5\u001b[0m \u001b[0mconn\u001b[0m\u001b[0;34m.\u001b[0m\u001b[0mentries\u001b[0m\u001b[0;34m\u001b[0m\u001b[0m\n",
      "\u001b[0;32m~/bluetech/rbac/venv/lib/python3.6/site-packages/ldap3/core/connection.py\u001b[0m in \u001b[0;36msearch\u001b[0;34m(self, search_base, search_filter, search_scope, dereference_aliases, attributes, size_limit, time_limit, types_only, get_operational_attributes, controls, paged_size, paged_criticality, paged_cookie, auto_escape)\u001b[0m\n\u001b[1;32m    774\u001b[0m                                        \u001b[0mself\u001b[0m\u001b[0;34m.\u001b[0m\u001b[0mserver\u001b[0m\u001b[0;34m.\u001b[0m\u001b[0mschema\u001b[0m \u001b[0;32mif\u001b[0m \u001b[0mself\u001b[0m\u001b[0;34m.\u001b[0m\u001b[0mserver\u001b[0m \u001b[0;32melse\u001b[0m \u001b[0;32mNone\u001b[0m\u001b[0;34m,\u001b[0m\u001b[0;34m\u001b[0m\u001b[0m\n\u001b[1;32m    775\u001b[0m                                        \u001b[0mvalidator\u001b[0m\u001b[0;34m=\u001b[0m\u001b[0mself\u001b[0m\u001b[0;34m.\u001b[0m\u001b[0mserver\u001b[0m\u001b[0;34m.\u001b[0m\u001b[0mcustom_validator\u001b[0m\u001b[0;34m,\u001b[0m\u001b[0;34m\u001b[0m\u001b[0m\n\u001b[0;32m--> 776\u001b[0;31m                                        check_names=self.check_names)\n\u001b[0m\u001b[1;32m    777\u001b[0m             \u001b[0;32mif\u001b[0m \u001b[0mlog_enabled\u001b[0m\u001b[0;34m(\u001b[0m\u001b[0mPROTOCOL\u001b[0m\u001b[0;34m)\u001b[0m\u001b[0;34m:\u001b[0m\u001b[0;34m\u001b[0m\u001b[0m\n\u001b[1;32m    778\u001b[0m                 \u001b[0mlog\u001b[0m\u001b[0;34m(\u001b[0m\u001b[0mPROTOCOL\u001b[0m\u001b[0;34m,\u001b[0m \u001b[0;34m'SEARCH request <%s> sent via <%s>'\u001b[0m\u001b[0;34m,\u001b[0m \u001b[0msearch_request_to_dict\u001b[0m\u001b[0;34m(\u001b[0m\u001b[0mrequest\u001b[0m\u001b[0;34m)\u001b[0m\u001b[0;34m,\u001b[0m \u001b[0mself\u001b[0m\u001b[0;34m)\u001b[0m\u001b[0;34m\u001b[0m\u001b[0m\n",
      "\u001b[0;32m~/bluetech/rbac/venv/lib/python3.6/site-packages/ldap3/operation/search.py\u001b[0m in \u001b[0;36msearch_operation\u001b[0;34m(search_base, search_filter, search_scope, dereference_aliases, attributes, size_limit, time_limit, types_only, auto_escape, auto_encode, schema, validator, check_names)\u001b[0m\n\u001b[1;32m    370\u001b[0m     \u001b[0mrequest\u001b[0m\u001b[0;34m[\u001b[0m\u001b[0;34m'timeLimit'\u001b[0m\u001b[0;34m]\u001b[0m \u001b[0;34m=\u001b[0m \u001b[0mInteger0ToMax\u001b[0m\u001b[0;34m(\u001b[0m\u001b[0mtime_limit\u001b[0m\u001b[0;34m)\u001b[0m\u001b[0;34m\u001b[0m\u001b[0m\n\u001b[1;32m    371\u001b[0m     \u001b[0mrequest\u001b[0m\u001b[0;34m[\u001b[0m\u001b[0;34m'typesOnly'\u001b[0m\u001b[0;34m]\u001b[0m \u001b[0;34m=\u001b[0m \u001b[0mTypesOnly\u001b[0m\u001b[0;34m(\u001b[0m\u001b[0;32mTrue\u001b[0m\u001b[0;34m)\u001b[0m \u001b[0;32mif\u001b[0m \u001b[0mtypes_only\u001b[0m \u001b[0;32melse\u001b[0m \u001b[0mTypesOnly\u001b[0m\u001b[0;34m(\u001b[0m\u001b[0;32mFalse\u001b[0m\u001b[0;34m)\u001b[0m\u001b[0;34m\u001b[0m\u001b[0m\n\u001b[0;32m--> 372\u001b[0;31m     \u001b[0mrequest\u001b[0m\u001b[0;34m[\u001b[0m\u001b[0;34m'filter'\u001b[0m\u001b[0;34m]\u001b[0m \u001b[0;34m=\u001b[0m \u001b[0mcompile_filter\u001b[0m\u001b[0;34m(\u001b[0m\u001b[0mparse_filter\u001b[0m\u001b[0;34m(\u001b[0m\u001b[0msearch_filter\u001b[0m\u001b[0;34m,\u001b[0m \u001b[0mschema\u001b[0m\u001b[0;34m,\u001b[0m \u001b[0mauto_escape\u001b[0m\u001b[0;34m,\u001b[0m \u001b[0mauto_encode\u001b[0m\u001b[0;34m,\u001b[0m \u001b[0mvalidator\u001b[0m\u001b[0;34m,\u001b[0m \u001b[0mcheck_names\u001b[0m\u001b[0;34m)\u001b[0m\u001b[0;34m.\u001b[0m\u001b[0melements\u001b[0m\u001b[0;34m[\u001b[0m\u001b[0;36m0\u001b[0m\u001b[0;34m]\u001b[0m\u001b[0;34m)\u001b[0m  \u001b[0;31m# parse the searchFilter string and compile it starting from the root node\u001b[0m\u001b[0;34m\u001b[0m\u001b[0m\n\u001b[0m\u001b[1;32m    373\u001b[0m     \u001b[0;32mif\u001b[0m \u001b[0;32mnot\u001b[0m \u001b[0misinstance\u001b[0m\u001b[0;34m(\u001b[0m\u001b[0mattributes\u001b[0m\u001b[0;34m,\u001b[0m \u001b[0mSEQUENCE_TYPES\u001b[0m\u001b[0;34m)\u001b[0m\u001b[0;34m:\u001b[0m\u001b[0;34m\u001b[0m\u001b[0m\n\u001b[1;32m    374\u001b[0m         \u001b[0mattributes\u001b[0m \u001b[0;34m=\u001b[0m \u001b[0;34m[\u001b[0m\u001b[0mNO_ATTRIBUTES\u001b[0m\u001b[0;34m]\u001b[0m\u001b[0;34m\u001b[0m\u001b[0m\n",
      "\u001b[0;32m~/bluetech/rbac/venv/lib/python3.6/site-packages/ldap3/operation/search.py\u001b[0m in \u001b[0;36mparse_filter\u001b[0;34m(search_filter, schema, auto_escape, auto_encode, validator, check_names)\u001b[0m\n\u001b[1;32m    218\u001b[0m         \u001b[0;32mreturn\u001b[0m \u001b[0mroot\u001b[0m\u001b[0;34m\u001b[0m\u001b[0m\n\u001b[1;32m    219\u001b[0m     \u001b[0;32melse\u001b[0m\u001b[0;34m:\u001b[0m\u001b[0;34m\u001b[0m\u001b[0m\n\u001b[0;32m--> 220\u001b[0;31m         \u001b[0;32mraise\u001b[0m \u001b[0mLDAPInvalidFilterError\u001b[0m\u001b[0;34m(\u001b[0m\u001b[0;34m'invalid filter'\u001b[0m\u001b[0;34m)\u001b[0m\u001b[0;34m\u001b[0m\u001b[0m\n\u001b[0m\u001b[1;32m    221\u001b[0m \u001b[0;34m\u001b[0m\u001b[0m\n\u001b[1;32m    222\u001b[0m \u001b[0;34m\u001b[0m\u001b[0m\n",
      "\u001b[0;31mLDAPInvalidFilterError\u001b[0m: invalid filter"
     ]
    }
   ],
   "source": [
    "conn.search(\n",
    "    search_base='o=bluetech,cn=admin,dc=bluetech,dc=corp',\n",
    "    search_filter='&(objectclass=*)(ou=DST)',\n",
    ")\n",
    "conn.entries"
   ]
  },
  {
   "cell_type": "code",
   "execution_count": 4,
   "metadata": {},
   "outputs": [
    {
     "name": "stdout",
     "output_type": "stream",
     "text": [
      "Group                                      Description\n"
     ]
    },
    {
     "ename": "LDAPObjectClassError",
     "evalue": "invalid class in objectClass attribute: group",
     "output_type": "error",
     "traceback": [
      "\u001b[0;31m---------------------------------------------------------------------------\u001b[0m",
      "\u001b[0;31mLDAPObjectClassError\u001b[0m                      Traceback (most recent call last)",
      "\u001b[0;32m<ipython-input-4-00268c222b93>\u001b[0m in \u001b[0;36m<module>\u001b[0;34m()\u001b[0m\n\u001b[1;32m     19\u001b[0m                   auto_bind=True)\n\u001b[1;32m     20\u001b[0m conn.search('dc={},dc=local'.format(domain_name), '(objectclass=group)',\n\u001b[0;32m---> 21\u001b[0;31m             attributes=[ALL_ATTRIBUTES, ALL_OPERATIONAL_ATTRIBUTES])\n\u001b[0m\u001b[1;32m     22\u001b[0m \u001b[0;34m\u001b[0m\u001b[0m\n\u001b[1;32m     23\u001b[0m \u001b[0;32mfor\u001b[0m \u001b[0me\u001b[0m \u001b[0;32min\u001b[0m \u001b[0msorted\u001b[0m\u001b[0;34m(\u001b[0m\u001b[0mconn\u001b[0m\u001b[0;34m.\u001b[0m\u001b[0mentries\u001b[0m\u001b[0;34m)\u001b[0m\u001b[0;34m:\u001b[0m\u001b[0;34m\u001b[0m\u001b[0m\n",
      "\u001b[0;32m~/bluetech/rbac/venv/lib/python3.6/site-packages/ldap3/core/connection.py\u001b[0m in \u001b[0;36msearch\u001b[0;34m(self, search_base, search_filter, search_scope, dereference_aliases, attributes, size_limit, time_limit, types_only, get_operational_attributes, controls, paged_size, paged_criticality, paged_cookie, auto_escape)\u001b[0m\n\u001b[1;32m    774\u001b[0m                                        \u001b[0mself\u001b[0m\u001b[0;34m.\u001b[0m\u001b[0mserver\u001b[0m\u001b[0;34m.\u001b[0m\u001b[0mschema\u001b[0m \u001b[0;32mif\u001b[0m \u001b[0mself\u001b[0m\u001b[0;34m.\u001b[0m\u001b[0mserver\u001b[0m \u001b[0;32melse\u001b[0m \u001b[0;32mNone\u001b[0m\u001b[0;34m,\u001b[0m\u001b[0;34m\u001b[0m\u001b[0m\n\u001b[1;32m    775\u001b[0m                                        \u001b[0mvalidator\u001b[0m\u001b[0;34m=\u001b[0m\u001b[0mself\u001b[0m\u001b[0;34m.\u001b[0m\u001b[0mserver\u001b[0m\u001b[0;34m.\u001b[0m\u001b[0mcustom_validator\u001b[0m\u001b[0;34m,\u001b[0m\u001b[0;34m\u001b[0m\u001b[0m\n\u001b[0;32m--> 776\u001b[0;31m                                        check_names=self.check_names)\n\u001b[0m\u001b[1;32m    777\u001b[0m             \u001b[0;32mif\u001b[0m \u001b[0mlog_enabled\u001b[0m\u001b[0;34m(\u001b[0m\u001b[0mPROTOCOL\u001b[0m\u001b[0;34m)\u001b[0m\u001b[0;34m:\u001b[0m\u001b[0;34m\u001b[0m\u001b[0m\n\u001b[1;32m    778\u001b[0m                 \u001b[0mlog\u001b[0m\u001b[0;34m(\u001b[0m\u001b[0mPROTOCOL\u001b[0m\u001b[0;34m,\u001b[0m \u001b[0;34m'SEARCH request <%s> sent via <%s>'\u001b[0m\u001b[0;34m,\u001b[0m \u001b[0msearch_request_to_dict\u001b[0m\u001b[0;34m(\u001b[0m\u001b[0mrequest\u001b[0m\u001b[0;34m)\u001b[0m\u001b[0;34m,\u001b[0m \u001b[0mself\u001b[0m\u001b[0;34m)\u001b[0m\u001b[0;34m\u001b[0m\u001b[0m\n",
      "\u001b[0;32m~/bluetech/rbac/venv/lib/python3.6/site-packages/ldap3/operation/search.py\u001b[0m in \u001b[0;36msearch_operation\u001b[0;34m(search_base, search_filter, search_scope, dereference_aliases, attributes, size_limit, time_limit, types_only, auto_escape, auto_encode, schema, validator, check_names)\u001b[0m\n\u001b[1;32m    370\u001b[0m     \u001b[0mrequest\u001b[0m\u001b[0;34m[\u001b[0m\u001b[0;34m'timeLimit'\u001b[0m\u001b[0;34m]\u001b[0m \u001b[0;34m=\u001b[0m \u001b[0mInteger0ToMax\u001b[0m\u001b[0;34m(\u001b[0m\u001b[0mtime_limit\u001b[0m\u001b[0;34m)\u001b[0m\u001b[0;34m\u001b[0m\u001b[0m\n\u001b[1;32m    371\u001b[0m     \u001b[0mrequest\u001b[0m\u001b[0;34m[\u001b[0m\u001b[0;34m'typesOnly'\u001b[0m\u001b[0;34m]\u001b[0m \u001b[0;34m=\u001b[0m \u001b[0mTypesOnly\u001b[0m\u001b[0;34m(\u001b[0m\u001b[0;32mTrue\u001b[0m\u001b[0;34m)\u001b[0m \u001b[0;32mif\u001b[0m \u001b[0mtypes_only\u001b[0m \u001b[0;32melse\u001b[0m \u001b[0mTypesOnly\u001b[0m\u001b[0;34m(\u001b[0m\u001b[0;32mFalse\u001b[0m\u001b[0;34m)\u001b[0m\u001b[0;34m\u001b[0m\u001b[0m\n\u001b[0;32m--> 372\u001b[0;31m     \u001b[0mrequest\u001b[0m\u001b[0;34m[\u001b[0m\u001b[0;34m'filter'\u001b[0m\u001b[0;34m]\u001b[0m \u001b[0;34m=\u001b[0m \u001b[0mcompile_filter\u001b[0m\u001b[0;34m(\u001b[0m\u001b[0mparse_filter\u001b[0m\u001b[0;34m(\u001b[0m\u001b[0msearch_filter\u001b[0m\u001b[0;34m,\u001b[0m \u001b[0mschema\u001b[0m\u001b[0;34m,\u001b[0m \u001b[0mauto_escape\u001b[0m\u001b[0;34m,\u001b[0m \u001b[0mauto_encode\u001b[0m\u001b[0;34m,\u001b[0m \u001b[0mvalidator\u001b[0m\u001b[0;34m,\u001b[0m \u001b[0mcheck_names\u001b[0m\u001b[0;34m)\u001b[0m\u001b[0;34m.\u001b[0m\u001b[0melements\u001b[0m\u001b[0;34m[\u001b[0m\u001b[0;36m0\u001b[0m\u001b[0;34m]\u001b[0m\u001b[0;34m)\u001b[0m  \u001b[0;31m# parse the searchFilter string and compile it starting from the root node\u001b[0m\u001b[0;34m\u001b[0m\u001b[0m\n\u001b[0m\u001b[1;32m    373\u001b[0m     \u001b[0;32mif\u001b[0m \u001b[0;32mnot\u001b[0m \u001b[0misinstance\u001b[0m\u001b[0;34m(\u001b[0m\u001b[0mattributes\u001b[0m\u001b[0;34m,\u001b[0m \u001b[0mSEQUENCE_TYPES\u001b[0m\u001b[0;34m)\u001b[0m\u001b[0;34m:\u001b[0m\u001b[0;34m\u001b[0m\u001b[0m\n\u001b[1;32m    374\u001b[0m         \u001b[0mattributes\u001b[0m \u001b[0;34m=\u001b[0m \u001b[0;34m[\u001b[0m\u001b[0mNO_ATTRIBUTES\u001b[0m\u001b[0;34m]\u001b[0m\u001b[0;34m\u001b[0m\u001b[0m\n",
      "\u001b[0;32m~/bluetech/rbac/venv/lib/python3.6/site-packages/ldap3/operation/search.py\u001b[0m in \u001b[0;36mparse_filter\u001b[0;34m(search_filter, schema, auto_escape, auto_encode, validator, check_names)\u001b[0m\n\u001b[1;32m    204\u001b[0m                         \u001b[0;32mif\u001b[0m \u001b[0mcurrent_node\u001b[0m\u001b[0;34m.\u001b[0m\u001b[0mtag\u001b[0m \u001b[0;34m==\u001b[0m \u001b[0mNOT\u001b[0m \u001b[0;32mand\u001b[0m \u001b[0mlen\u001b[0m\u001b[0;34m(\u001b[0m\u001b[0mcurrent_node\u001b[0m\u001b[0;34m.\u001b[0m\u001b[0melements\u001b[0m\u001b[0;34m)\u001b[0m \u001b[0;34m>\u001b[0m \u001b[0;36m0\u001b[0m\u001b[0;34m:\u001b[0m\u001b[0;34m\u001b[0m\u001b[0m\n\u001b[1;32m    205\u001b[0m                             \u001b[0;32mraise\u001b[0m \u001b[0mLDAPInvalidFilterError\u001b[0m\u001b[0;34m(\u001b[0m\u001b[0;34m'NOT (!) clause in filter cannot be multiple'\u001b[0m\u001b[0;34m)\u001b[0m\u001b[0;34m\u001b[0m\u001b[0m\n\u001b[0;32m--> 206\u001b[0;31m                         \u001b[0mcurrent_node\u001b[0m\u001b[0;34m.\u001b[0m\u001b[0mappend\u001b[0m\u001b[0;34m(\u001b[0m\u001b[0mevaluate_match\u001b[0m\u001b[0;34m(\u001b[0m\u001b[0msearch_filter\u001b[0m\u001b[0;34m[\u001b[0m\u001b[0mstart_pos\u001b[0m\u001b[0;34m:\u001b[0m\u001b[0mend_pos\u001b[0m\u001b[0;34m]\u001b[0m\u001b[0;34m,\u001b[0m \u001b[0mschema\u001b[0m\u001b[0;34m,\u001b[0m \u001b[0mauto_escape\u001b[0m\u001b[0;34m,\u001b[0m \u001b[0mauto_encode\u001b[0m\u001b[0;34m,\u001b[0m \u001b[0mvalidator\u001b[0m\u001b[0;34m,\u001b[0m \u001b[0mcheck_names\u001b[0m\u001b[0;34m)\u001b[0m\u001b[0;34m)\u001b[0m\u001b[0;34m\u001b[0m\u001b[0m\n\u001b[0m\u001b[1;32m    207\u001b[0m                 \u001b[0mstart_pos\u001b[0m \u001b[0;34m=\u001b[0m \u001b[0;32mNone\u001b[0m\u001b[0;34m\u001b[0m\u001b[0m\n\u001b[1;32m    208\u001b[0m                 \u001b[0mstate\u001b[0m \u001b[0;34m=\u001b[0m \u001b[0mSEARCH_OPEN_OR_CLOSE\u001b[0m\u001b[0;34m\u001b[0m\u001b[0m\n",
      "\u001b[0;32m~/bluetech/rbac/venv/lib/python3.6/site-packages/ldap3/operation/search.py\u001b[0m in \u001b[0;36mevaluate_match\u001b[0;34m(match, schema, auto_escape, auto_encode, validator, check_names)\u001b[0m\n\u001b[1;32m    164\u001b[0m         \u001b[0mleft_part\u001b[0m \u001b[0;34m=\u001b[0m \u001b[0mleft_part\u001b[0m\u001b[0;34m.\u001b[0m\u001b[0mstrip\u001b[0m\u001b[0;34m(\u001b[0m\u001b[0;34m)\u001b[0m\u001b[0;34m\u001b[0m\u001b[0m\n\u001b[1;32m    165\u001b[0m         \u001b[0mright_part\u001b[0m \u001b[0;34m=\u001b[0m \u001b[0mright_part\u001b[0m\u001b[0;34m.\u001b[0m\u001b[0mstrip\u001b[0m\u001b[0;34m(\u001b[0m\u001b[0;34m)\u001b[0m\u001b[0;34m\u001b[0m\u001b[0m\n\u001b[0;32m--> 166\u001b[0;31m         \u001b[0massertion\u001b[0m \u001b[0;34m=\u001b[0m \u001b[0;34m{\u001b[0m\u001b[0;34m'attr'\u001b[0m\u001b[0;34m:\u001b[0m \u001b[0mleft_part\u001b[0m\u001b[0;34m,\u001b[0m \u001b[0;34m'value'\u001b[0m\u001b[0;34m:\u001b[0m \u001b[0mvalidate_assertion_value\u001b[0m\u001b[0;34m(\u001b[0m\u001b[0mschema\u001b[0m\u001b[0;34m,\u001b[0m \u001b[0mleft_part\u001b[0m\u001b[0;34m,\u001b[0m \u001b[0mright_part\u001b[0m\u001b[0;34m,\u001b[0m \u001b[0mauto_escape\u001b[0m\u001b[0;34m,\u001b[0m \u001b[0mauto_encode\u001b[0m\u001b[0;34m,\u001b[0m \u001b[0mvalidator\u001b[0m\u001b[0;34m,\u001b[0m \u001b[0mcheck_names\u001b[0m\u001b[0;34m)\u001b[0m\u001b[0;34m}\u001b[0m\u001b[0;34m\u001b[0m\u001b[0m\n\u001b[0m\u001b[1;32m    167\u001b[0m \u001b[0;34m\u001b[0m\u001b[0m\n\u001b[1;32m    168\u001b[0m     \u001b[0;32mreturn\u001b[0m \u001b[0mFilterNode\u001b[0m\u001b[0;34m(\u001b[0m\u001b[0mtag\u001b[0m\u001b[0;34m,\u001b[0m \u001b[0massertion\u001b[0m\u001b[0;34m)\u001b[0m\u001b[0;34m\u001b[0m\u001b[0m\n",
      "\u001b[0;32m~/bluetech/rbac/venv/lib/python3.6/site-packages/ldap3/protocol/convert.py\u001b[0m in \u001b[0;36mvalidate_assertion_value\u001b[0;34m(schema, name, value, auto_escape, auto_encode, validator, check_names)\u001b[0m\n\u001b[1;32m    142\u001b[0m         \u001b[0;32mif\u001b[0m \u001b[0;34m'\\\\'\u001b[0m \u001b[0;32min\u001b[0m \u001b[0mvalue\u001b[0m \u001b[0;32mand\u001b[0m \u001b[0;32mnot\u001b[0m \u001b[0mis_filter_escaped\u001b[0m\u001b[0;34m(\u001b[0m\u001b[0mvalue\u001b[0m\u001b[0;34m)\u001b[0m\u001b[0;34m:\u001b[0m\u001b[0;34m\u001b[0m\u001b[0m\n\u001b[1;32m    143\u001b[0m             \u001b[0mvalue\u001b[0m \u001b[0;34m=\u001b[0m \u001b[0mescape_filter_chars\u001b[0m\u001b[0;34m(\u001b[0m\u001b[0mvalue\u001b[0m\u001b[0;34m)\u001b[0m\u001b[0;34m\u001b[0m\u001b[0m\n\u001b[0;32m--> 144\u001b[0;31m     \u001b[0mvalue\u001b[0m \u001b[0;34m=\u001b[0m \u001b[0mvalidate_attribute_value\u001b[0m\u001b[0;34m(\u001b[0m\u001b[0mschema\u001b[0m\u001b[0;34m,\u001b[0m \u001b[0mname\u001b[0m\u001b[0;34m,\u001b[0m \u001b[0mvalue\u001b[0m\u001b[0;34m,\u001b[0m \u001b[0mauto_encode\u001b[0m\u001b[0;34m,\u001b[0m \u001b[0mvalidator\u001b[0m\u001b[0;34m=\u001b[0m\u001b[0mvalidator\u001b[0m\u001b[0;34m,\u001b[0m \u001b[0mcheck_names\u001b[0m\u001b[0;34m=\u001b[0m\u001b[0mcheck_names\u001b[0m\u001b[0;34m)\u001b[0m\u001b[0;34m\u001b[0m\u001b[0m\n\u001b[0m\u001b[1;32m    145\u001b[0m     \u001b[0;32mreturn\u001b[0m \u001b[0mvalue\u001b[0m\u001b[0;34m\u001b[0m\u001b[0m\n\u001b[1;32m    146\u001b[0m \u001b[0;34m\u001b[0m\u001b[0m\n",
      "\u001b[0;32m~/bluetech/rbac/venv/lib/python3.6/site-packages/ldap3/protocol/convert.py\u001b[0m in \u001b[0;36mvalidate_attribute_value\u001b[0;34m(schema, name, value, auto_encode, validator, check_names)\u001b[0m\n\u001b[1;32m    156\u001b[0m         \u001b[0;32mif\u001b[0m \u001b[0mcheck_names\u001b[0m \u001b[0;32mand\u001b[0m \u001b[0mschema\u001b[0m\u001b[0;34m.\u001b[0m\u001b[0mobject_classes\u001b[0m \u001b[0;32mand\u001b[0m \u001b[0mname\u001b[0m\u001b[0;34m.\u001b[0m\u001b[0mlower\u001b[0m\u001b[0;34m(\u001b[0m\u001b[0;34m)\u001b[0m \u001b[0;34m==\u001b[0m \u001b[0;34m'objectclass'\u001b[0m\u001b[0;34m:\u001b[0m\u001b[0;34m\u001b[0m\u001b[0m\n\u001b[1;32m    157\u001b[0m             \u001b[0;32mif\u001b[0m \u001b[0mto_unicode\u001b[0m\u001b[0;34m(\u001b[0m\u001b[0mvalue\u001b[0m\u001b[0;34m)\u001b[0m\u001b[0;34m.\u001b[0m\u001b[0mlower\u001b[0m\u001b[0;34m(\u001b[0m\u001b[0;34m)\u001b[0m \u001b[0;32mnot\u001b[0m \u001b[0;32min\u001b[0m \u001b[0mconf_classes_excluded_from_check\u001b[0m \u001b[0;32mand\u001b[0m \u001b[0mto_unicode\u001b[0m\u001b[0;34m(\u001b[0m\u001b[0mvalue\u001b[0m\u001b[0;34m)\u001b[0m \u001b[0;32mnot\u001b[0m \u001b[0;32min\u001b[0m \u001b[0mschema\u001b[0m\u001b[0;34m.\u001b[0m\u001b[0mobject_classes\u001b[0m\u001b[0;34m:\u001b[0m\u001b[0;34m\u001b[0m\u001b[0m\n\u001b[0;32m--> 158\u001b[0;31m                 \u001b[0;32mraise\u001b[0m \u001b[0mLDAPObjectClassError\u001b[0m\u001b[0;34m(\u001b[0m\u001b[0;34m'invalid class in objectClass attribute: '\u001b[0m \u001b[0;34m+\u001b[0m \u001b[0mstr\u001b[0m\u001b[0;34m(\u001b[0m\u001b[0mvalue\u001b[0m\u001b[0;34m)\u001b[0m\u001b[0;34m)\u001b[0m\u001b[0;34m\u001b[0m\u001b[0m\n\u001b[0m\u001b[1;32m    159\u001b[0m         \u001b[0;32melif\u001b[0m \u001b[0mcheck_names\u001b[0m \u001b[0;32mand\u001b[0m \u001b[0mname\u001b[0m \u001b[0;32mnot\u001b[0m \u001b[0;32min\u001b[0m \u001b[0mschema\u001b[0m\u001b[0;34m.\u001b[0m\u001b[0mattribute_types\u001b[0m \u001b[0;32mand\u001b[0m \u001b[0mname\u001b[0m\u001b[0;34m.\u001b[0m\u001b[0mlower\u001b[0m\u001b[0;34m(\u001b[0m\u001b[0;34m)\u001b[0m \u001b[0;32mnot\u001b[0m \u001b[0;32min\u001b[0m \u001b[0mconf_attributes_excluded_from_check\u001b[0m\u001b[0;34m:\u001b[0m\u001b[0;34m\u001b[0m\u001b[0m\n\u001b[1;32m    160\u001b[0m             \u001b[0;32mraise\u001b[0m \u001b[0mLDAPAttributeError\u001b[0m\u001b[0;34m(\u001b[0m\u001b[0;34m'invalid attribute '\u001b[0m \u001b[0;34m+\u001b[0m \u001b[0mname\u001b[0m\u001b[0;34m)\u001b[0m\u001b[0;34m\u001b[0m\u001b[0m\n",
      "\u001b[0;31mLDAPObjectClassError\u001b[0m: invalid class in objectClass attribute: group"
     ]
    }
   ],
   "source": [
    "import sys\n",
    "from ldap3 import Server, Connection, ALL, NTLM, ALL_ATTRIBUTES, ALL_OPERATIONAL_ATTRIBUTES, AUTO_BIND_NO_TLS, SUBTREE\n",
    "from ldap3.core.exceptions import LDAPCursorError\n",
    "\n",
    "server_name = '127.0.0.1:389'\n",
    "domain_name = 'dc=bluetech,dc=corp'\n",
    "user_name = 'cn=admin,dc=bluetech,dc=corp'\n",
    "password = 'admin'\n",
    "\n",
    "format_string = '{:40}   {}'\n",
    "print(format_string.format('Group', 'Description'))\n",
    "\n",
    "server = Server(server_name, get_info=ALL)\n",
    "conn = Connection(server,\n",
    "                  # user='{}\\\\{}'.format(domain_name, user_name),\n",
    "                  user=user_name,\n",
    "                  password=password,\n",
    "                  # authentication=NTLM,\n",
    "                  auto_bind=True)\n",
    "conn.search('dc={},dc=local'.format(domain_name), '(objectclass=group)',\n",
    "            attributes=[ALL_ATTRIBUTES, ALL_OPERATIONAL_ATTRIBUTES])\n",
    "\n",
    "for e in sorted(conn.entries):\n",
    "    try:\n",
    "        desc = e.description\n",
    "    except LDAPCursorError:\n",
    "        desc = \"\"\n",
    "    print(format_string.format(str(e.name), desc))"
   ]
  },
  {
   "cell_type": "code",
   "execution_count": null,
   "metadata": {},
   "outputs": [],
   "source": []
  },
  {
   "cell_type": "code",
   "execution_count": null,
   "metadata": {},
   "outputs": [],
   "source": []
  },
  {
   "cell_type": "code",
   "execution_count": null,
   "metadata": {},
   "outputs": [],
   "source": []
  },
  {
   "cell_type": "code",
   "execution_count": null,
   "metadata": {},
   "outputs": [],
   "source": []
  },
  {
   "cell_type": "code",
   "execution_count": null,
   "metadata": {},
   "outputs": [],
   "source": []
  },
  {
   "cell_type": "code",
   "execution_count": null,
   "metadata": {},
   "outputs": [],
   "source": []
  },
  {
   "cell_type": "code",
   "execution_count": null,
   "metadata": {},
   "outputs": [],
   "source": []
  },
  {
   "cell_type": "markdown",
   "metadata": {},
   "source": [
    "# 使用laurelin"
   ]
  },
  {
   "cell_type": "code",
   "execution_count": 19,
   "metadata": {},
   "outputs": [
    {
     "name": "stdout",
     "output_type": "stream",
     "text": [
      "LDAPObject(dn='dc=bluetech,dc=corp', attrs={})\n"
     ]
    },
    {
     "data": {
      "text/plain": [
       "{}"
      ]
     },
     "execution_count": 19,
     "metadata": {},
     "output_type": "execute_result"
    }
   ],
   "source": [
    "from laurelin.ldap import LDAP\n",
    "\n",
    "with LDAP('ldap://127.0.0.1:389') as ldap:\n",
    "    print(ldap.base)\n",
    "    results = ldap.search(base_dn=ldap.base)"
   ]
  },
  {
   "cell_type": "code",
   "execution_count": null,
   "metadata": {},
   "outputs": [],
   "source": []
  },
  {
   "cell_type": "code",
   "execution_count": null,
   "metadata": {},
   "outputs": [],
   "source": []
  },
  {
   "cell_type": "code",
   "execution_count": null,
   "metadata": {},
   "outputs": [],
   "source": []
  },
  {
   "cell_type": "code",
   "execution_count": null,
   "metadata": {},
   "outputs": [],
   "source": []
  },
  {
   "cell_type": "code",
   "execution_count": null,
   "metadata": {},
   "outputs": [],
   "source": []
  }
 ],
 "metadata": {
  "kernelspec": {
   "display_name": "Python 3",
   "language": "python",
   "name": "python3"
  },
  "language_info": {
   "codemirror_mode": {
    "name": "ipython",
    "version": 3
   },
   "file_extension": ".py",
   "mimetype": "text/x-python",
   "name": "python",
   "nbconvert_exporter": "python",
   "pygments_lexer": "ipython3",
   "version": "3.6.5"
  }
 },
 "nbformat": 4,
 "nbformat_minor": 2
}
